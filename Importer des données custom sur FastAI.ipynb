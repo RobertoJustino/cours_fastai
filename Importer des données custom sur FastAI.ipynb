{
 "cells": [
  {
   "cell_type": "markdown",
   "metadata": {
    "colab_type": "text",
    "id": "NG-GhT7QaTyr"
   },
   "source": [
    "# Importer & préparer n'importe quels types de données sur FastAI \n",
    "\n",
    "## Ce que vous apprendrez dans ce cours \n",
    "\n",
    "Nous avons vu dans le cours précédent comment nous pouvions créer des modèles simples sur des données relativement simples. Cependant, le monde du deep learning n'est pas toujours aussi sympathique. C'est pourquoi, nous souhaitons aller plus en profondeur sur la préparation des données et vous donner les armes pour pouvoir créer vos propres datasets facilement. "
   ]
  },
  {
   "cell_type": "markdown",
   "metadata": {
    "colab_type": "text",
    "id": "OpjbnkgHb4bm"
   },
   "source": [
    "## Rappels : Comment créer des ```DataBunch``` simplement "
   ]
  },
  {
   "cell_type": "markdown",
   "metadata": {
    "colab_type": "text",
    "id": "J7Fu_rZhcKxH"
   },
   "source": [
    "Nous avons vu dans le cours précédent que nous avions des ```DataBunch``` préfaits en fonction des scénarios que nous souhaitions attaquer. \n",
    "\n",
    "|Scénario|DataBunch|\n",
    "|--------------|------------------|\n",
    "|Gestion d'images| ```ImageDataBunch```|\n",
    "|Classification de textes (analyse de sentiments)|```TextClasDataBunch```|\n",
    "|Language Modeler (Prédire le prochain mot dans une phrase)| ```TextLMDataBunch```|\n",
    "|Données tabulaires|```TabularDataBunch```|\n",
    "|Collaborative Filtering| ```CollabDataBunch```|\n"
   ]
  },
  {
   "cell_type": "markdown",
   "metadata": {
    "colab_type": "text",
    "id": "pQAuh9WDca3u"
   },
   "source": [
    "Combiné avec les fonctions d'aide suivantes, vous pouviez importer déjà un certain nombre de données pour entrainement \n",
    "\n",
    "|Source de données|Methode|\n",
    "|------------------------------|--------------|\n",
    "|Des dossiers| ```from_folder()```|\n",
    "|Des DataFrames| ```from_df()```|\n",
    "|Des fichiers csv| ```from_csv()```|"
   ]
  },
  {
   "cell_type": "code",
   "execution_count": 15,
   "metadata": {
    "colab": {},
    "colab_type": "code",
    "id": "x2zsy5rXaIf_"
   },
   "outputs": [
    {
     "ename": "ModuleNotFoundError",
     "evalue": "No module named 'fastai'",
     "output_type": "error",
     "traceback": [
      "\u001b[0;31m---------------------------------------------------------------------------\u001b[0m",
      "\u001b[0;31mModuleNotFoundError\u001b[0m                       Traceback (most recent call last)",
      "\u001b[0;32m/tmp/ipykernel_34131/223348875.py\u001b[0m in \u001b[0;36m<module>\u001b[0;34m\u001b[0m\n\u001b[0;32m----> 1\u001b[0;31m \u001b[0;32mfrom\u001b[0m \u001b[0mfastai\u001b[0m\u001b[0;34m.\u001b[0m\u001b[0mvision\u001b[0m \u001b[0;32mimport\u001b[0m \u001b[0;34m*\u001b[0m\u001b[0;34m\u001b[0m\u001b[0;34m\u001b[0m\u001b[0m\n\u001b[0m\u001b[1;32m      2\u001b[0m \u001b[0mpath\u001b[0m \u001b[0;34m=\u001b[0m \u001b[0muntar_data\u001b[0m\u001b[0;34m(\u001b[0m\u001b[0mURLs\u001b[0m\u001b[0;34m.\u001b[0m\u001b[0mMNIST_SAMPLE\u001b[0m\u001b[0;34m)\u001b[0m\u001b[0;34m\u001b[0m\u001b[0;34m\u001b[0m\u001b[0m\n\u001b[1;32m      3\u001b[0m \u001b[0mdata\u001b[0m \u001b[0;34m=\u001b[0m \u001b[0mImageDataBunch\u001b[0m\u001b[0;34m.\u001b[0m\u001b[0mfrom_folder\u001b[0m\u001b[0;34m(\u001b[0m\u001b[0mpath\u001b[0m\u001b[0;34m)\u001b[0m\u001b[0;34m\u001b[0m\u001b[0;34m\u001b[0m\u001b[0m\n\u001b[1;32m      4\u001b[0m \u001b[0mlearn\u001b[0m \u001b[0;34m=\u001b[0m \u001b[0mcnn_learner\u001b[0m\u001b[0;34m(\u001b[0m\u001b[0mdata\u001b[0m\u001b[0;34m,\u001b[0m \u001b[0mmodels\u001b[0m\u001b[0;34m.\u001b[0m\u001b[0mresnet18\u001b[0m\u001b[0;34m)\u001b[0m\u001b[0;34m\u001b[0m\u001b[0;34m\u001b[0m\u001b[0m\n",
      "\u001b[0;31mModuleNotFoundError\u001b[0m: No module named 'fastai'"
     ]
    }
   ],
   "source": [
    "from fastai.vision import *\n",
    "path = untar_data(URLs.MNIST_SAMPLE)\n",
    "data = ImageDataBunch.from_folder(path)\n",
    "learn = cnn_learner(data, models.resnet18)"
   ]
  },
  {
   "cell_type": "code",
   "execution_count": 5,
   "metadata": {
    "colab": {
     "base_uri": "https://localhost:8080/",
     "height": 106
    },
    "colab_type": "code",
    "id": "g9ZAn1xicv98",
    "outputId": "65fd2fd1-3a30-4827-c0e2-d2e8ff6fe469"
   },
   "outputs": [
    {
     "data": {
      "text/html": [
       "<table border=\"1\" class=\"dataframe\">\n",
       "  <thead>\n",
       "    <tr style=\"text-align: left;\">\n",
       "      <th>epoch</th>\n",
       "      <th>train_loss</th>\n",
       "      <th>valid_loss</th>\n",
       "      <th>time</th>\n",
       "    </tr>\n",
       "  </thead>\n",
       "  <tbody>\n",
       "    <tr>\n",
       "      <td>0</td>\n",
       "      <td>0.172782</td>\n",
       "      <td>0.100341</td>\n",
       "      <td>02:41</td>\n",
       "    </tr>\n",
       "    <tr>\n",
       "      <td>1</td>\n",
       "      <td>0.097155</td>\n",
       "      <td>0.077599</td>\n",
       "      <td>02:23</td>\n",
       "    </tr>\n",
       "  </tbody>\n",
       "</table>"
      ],
      "text/plain": [
       "<IPython.core.display.HTML object>"
      ]
     },
     "metadata": {
      "tags": []
     },
     "output_type": "display_data"
    }
   ],
   "source": [
    "learn.fit_one_cycle(2)"
   ]
  },
  {
   "cell_type": "markdown",
   "metadata": {
    "colab_type": "text",
    "id": "XdLBfBwsdJe_"
   },
   "source": [
    "Cependant, il peut arriver que vous ne puissiez pas toujours vous en sortir avec les ```DataBunch``` préfaits, c'est pour cela que FastAI a créé un ```DataBlockAPI``` qu'il est important de voir "
   ]
  },
  {
   "cell_type": "markdown",
   "metadata": {
    "colab_type": "text",
    "id": "mPMWvixkdfAf"
   },
   "source": [
    "## Les éléments nécessaires à la construction d'un DataBunch "
   ]
  },
  {
   "cell_type": "markdown",
   "metadata": {
    "colab_type": "text",
    "id": "ina829XZenrM"
   },
   "source": [
    "Il y a quatres étapes que vous devez connaitre dans la construction d'un databunch : \n",
    "\n",
    "1. Donner les inputs (vos données brutes)\n",
    "2. Splitter vos données en un train et test set \n",
    "3. Labelliser vos données \n",
    "4. Appliquer les transformations nécessaire (si besoin)\n",
    "5. Convertir en DataBunch "
   ]
  },
  {
   "cell_type": "markdown",
   "metadata": {
    "colab_type": "text",
    "id": "3G9lkoLnftNR"
   },
   "source": [
    "Regardons donc chacune de ces étapes de plus près. "
   ]
  },
  {
   "cell_type": "markdown",
   "metadata": {
    "colab_type": "text",
    "id": "70SFUK7mfwsW"
   },
   "source": [
    "### Donner les inputs"
   ]
  },
  {
   "cell_type": "markdown",
   "metadata": {
    "colab_type": "text",
    "id": "c0k5L_L-f0YD"
   },
   "source": [
    "De la même façon qu'au dessus, vous devrez vous poser la question : quel est la problématiques que j'essaie de résoudre. En fonction, vous pourrez choisir la classe qui correspond à ce que vous faites : \n",
    "\n",
    "|Classe|Scénario|\n",
    "|-----------|-------------|\n",
    "|CategoryList| for labels in classification|\n",
    "|MultiCategoryList| for labels in a multi classification problem|\n",
    "|FloatList| for float labels in a regression problem|\n",
    "|ImageList| for data that are images|\n",
    "|SegmentationItemList| like ImageList but will default labels to SegmentationLabelList|\n",
    "|SegmentationLabelList| for segmentation masks|\n",
    "|ObjectItemList| like ImageList but will default labels to ObjectLabelList|\n",
    "|ObjectLabelList| for object detection|\n",
    "|PointsItemList| for points (of the type ImagePoints)|\n",
    "|ImageImageList| for image to image tasks|\n",
    "|TextList| for text data|\n",
    "|TabularList| for tabular data|\n",
    "|CollabList| for collaborative filtering|"
   ]
  },
  {
   "cell_type": "markdown",
   "metadata": {
    "colab_type": "text",
    "id": "tvWCrWT3siiK"
   },
   "source": [
    "Toutes ces classes viennent de la classe parente : ```ItemList```"
   ]
  },
  {
   "cell_type": "markdown",
   "metadata": {
    "colab_type": "text",
    "id": "lRHxRj6nhj2Y"
   },
   "source": [
    "La suite reste la même méthode, vous pouvez utiliser des fonctions d'aide relative à la provenance de votre input :\n",
    "\n",
    "  |Helper function|Notes|\n",
    "  |------------------------|----------|\n",
    "  |from_folder|Pour les données qui viennent de dossiers|\n",
    "  |from_csv|Pour les données provenant d'un csv|\n",
    "  |from_df| Pour les données provenant de DataFrame|"
   ]
  },
  {
   "cell_type": "code",
   "execution_count": 37,
   "metadata": {
    "colab": {
     "base_uri": "https://localhost:8080/",
     "height": 67
    },
    "colab_type": "code",
    "id": "UVBTQdhFit8A",
    "outputId": "b1893f71-ec40-4525-8f96-e87892ea0678"
   },
   "outputs": [
    {
     "data": {
      "text/plain": [
       "ImageList (14434 items)\n",
       "Image (3, 28, 28),Image (3, 28, 28),Image (3, 28, 28),Image (3, 28, 28),Image (3, 28, 28)\n",
       "Path: /root/.fastai/data/mnist_sample"
      ]
     },
     "execution_count": 37,
     "metadata": {
      "tags": []
     },
     "output_type": "execute_result"
    }
   ],
   "source": [
    "# Exemple sur MNIST\n",
    "df = pd.read_csv(path/'labels.csv')\n",
    "data_mnist = ImageList.from_df(df=df, path=path)\n",
    "data_mnist"
   ]
  },
  {
   "cell_type": "code",
   "execution_count": 26,
   "metadata": {
    "colab": {
     "base_uri": "https://localhost:8080/",
     "height": 67
    },
    "colab_type": "code",
    "id": "q7Wz8Cwhi7Xg",
    "outputId": "524bf9b0-d459-495b-8a10-d7d346d4acf3"
   },
   "outputs": [
    {
     "data": {
      "text/plain": [
       "TextList (0 items)\n",
       "\n",
       "Path: /root/.fastai/data/imdb_sample/texts.csv"
      ]
     },
     "execution_count": 26,
     "metadata": {
      "tags": []
     },
     "output_type": "execute_result"
    }
   ],
   "source": [
    "# Exemple sur un IMDB\n",
    "from fastai.text import *\n",
    "imdb = untar_data(URLs.IMDB_SAMPLE)\n",
    "\n",
    "import pandas as pd\n",
    "text = pd.read_csv(imdb/\"texts.csv\")\n",
    "\n",
    "data_imdb = TextList.from_folder(imdb/\"texts.csv\")\n",
    "data_imdb"
   ]
  },
  {
   "cell_type": "markdown",
   "metadata": {
    "colab_type": "text",
    "id": "IZr_ZR3lihG6"
   },
   "source": [
    "### Splitter vos données "
   ]
  },
  {
   "cell_type": "markdown",
   "metadata": {
    "colab_type": "text",
    "id": "gfPxWpNRolSC"
   },
   "source": [
    "La deuxième étapes est de splitter en données d'entrainement et de test. Pour cela, nous avons aussi une batterie de méthodes qui vont pouvoir nous être utile \n",
    "\n",
    "|Méthode|Explication|Exemple|\n",
    "|--------------|-----------------|-------------|\n",
    "|```split_by_rand_pct(valid_pct:float=0.2, seed:int=None)```| Split par items|\n",
    "|```split_subsets(train_size:float, valid_size:float, seed=None)```| Split par sous partie de votre dataset, cela ressemble beaucoup à split_by_rand_pct|\n",
    "|```split_by_files(valid_names:ItemList)```| Split par noms de fichiers|\n",
    "|```split_by_fname_file(fname:PathOrStr, path:PathOrStr=None)```| Split par noms de fichiers de la même manière mais prend comme input un Path au lieu d'un ItemList|\n",
    "|```split_by_folder(train:str='train', valid:str='valid')```|Split par noms de dossiers|\n",
    "|```split_by_idx(valid_idx:Collection[int])```|Split par numéro d'index|\n",
    "|```split_by_idxs(train_idx, valid_idx)```|Précise quels indexes vont dans le train et lesquels vont dans le test|\n",
    "|```split_by_list(train, valid)```|Sépare par listes d'items|\n",
    "|```split_by_valid_func(func:Callable)```|Sépare par une fonction donnée|\n",
    "|```split_from_df(col:IntsOrStrs=2)```|Sépare sur des DataFrame données|\n",
    "|```split_none()```|N'applique pas de split|"
   ]
  },
  {
   "cell_type": "code",
   "execution_count": 38,
   "metadata": {
    "colab": {
     "base_uri": "https://localhost:8080/",
     "height": 218
    },
    "colab_type": "code",
    "id": "1Hqj6ZZlc2ji",
    "outputId": "120afe4a-0048-423e-c2b8-c377f312be8f"
   },
   "outputs": [
    {
     "name": "stdout",
     "output_type": "stream",
     "text": [
      "(14434, 3)\n"
     ]
    },
    {
     "data": {
      "text/plain": [
       "ItemLists;\n",
       "\n",
       "Train: ImageList (7217 items)\n",
       "Image (3, 28, 28),Image (3, 28, 28),Image (3, 28, 28),Image (3, 28, 28),Image (3, 28, 28)\n",
       "Path: /root/.fastai/data/mnist_sample;\n",
       "\n",
       "Valid: ImageList (7217 items)\n",
       "Image (3, 28, 28),Image (3, 28, 28),Image (3, 28, 28),Image (3, 28, 28),Image (3, 28, 28)\n",
       "Path: /root/.fastai/data/mnist_sample;\n",
       "\n",
       "Test: None"
      ]
     },
     "execution_count": 38,
     "metadata": {
      "tags": []
     },
     "output_type": "execute_result"
    }
   ],
   "source": [
    "# Exemple sur un DataFrame \n",
    "\n",
    "path = untar_data(URLs.MNIST_SAMPLE)\n",
    "df = pd.read_csv(path/'labels.csv')\n",
    "\n",
    "# Create a new column for is_valid\n",
    "df['is_valid'] = [True]*(df.shape[0]//2) + [False]*(df.shape[0]//2)\n",
    "\n",
    "# Randomly shuffle dataframe\n",
    "df = df.reindex(np.random.permutation(df.index))\n",
    "print(df.shape)\n",
    "\n",
    "data = (ImageList.from_df(df, path)\n",
    "                 .split_from_df())\n",
    "data"
   ]
  },
  {
   "cell_type": "code",
   "execution_count": 39,
   "metadata": {
    "colab": {
     "base_uri": "https://localhost:8080/",
     "height": 202
    },
    "colab_type": "code",
    "id": "oCImZCaJr61k",
    "outputId": "3b440d64-42bd-4952-b3e4-151f0c242190"
   },
   "outputs": [
    {
     "data": {
      "text/plain": [
       "ItemLists;\n",
       "\n",
       "Train: ImageList (13434 items)\n",
       "Image (3, 28, 28),Image (3, 28, 28),Image (3, 28, 28),Image (3, 28, 28),Image (3, 28, 28)\n",
       "Path: /root/.fastai/data/mnist_sample;\n",
       "\n",
       "Valid: ImageList (1000 items)\n",
       "Image (3, 28, 28),Image (3, 28, 28),Image (3, 28, 28),Image (3, 28, 28),Image (3, 28, 28)\n",
       "Path: /root/.fastai/data/mnist_sample;\n",
       "\n",
       "Test: None"
      ]
     },
     "execution_count": 39,
     "metadata": {
      "tags": []
     },
     "output_type": "execute_result"
    }
   ],
   "source": [
    "# Exemple sur un index\n",
    "path = untar_data(URLs.MNIST_SAMPLE)\n",
    "df = pd.read_csv(path/'labels.csv')\n",
    "\n",
    "data = (ImageList.from_df(df, path)\n",
    "                 .split_by_idx(list(range(1000))))\n",
    "data"
   ]
  },
  {
   "cell_type": "code",
   "execution_count": 42,
   "metadata": {
    "colab": {
     "base_uri": "https://localhost:8080/",
     "height": 202
    },
    "colab_type": "code",
    "id": "fbODwwzTsAuy",
    "outputId": "0b35d254-e03d-4545-b9b3-2e36ef95cefd"
   },
   "outputs": [
    {
     "data": {
      "text/plain": [
       "ItemLists;\n",
       "\n",
       "Train: ImageList (709 items)\n",
       "Image (3, 28, 28),Image (3, 28, 28),Image (3, 28, 28),Image (3, 28, 28),Image (3, 28, 28)\n",
       "Path: /root/.fastai/data/mnist_tiny;\n",
       "\n",
       "Valid: ImageList (699 items)\n",
       "Image (3, 28, 28),Image (3, 28, 28),Image (3, 28, 28),Image (3, 28, 28),Image (3, 28, 28)\n",
       "Path: /root/.fastai/data/mnist_tiny;\n",
       "\n",
       "Test: None"
      ]
     },
     "execution_count": 42,
     "metadata": {
      "tags": []
     },
     "output_type": "execute_result"
    }
   ],
   "source": [
    "# Exemple sur un dossier \n",
    "path_data = untar_data(URLs.MNIST_TINY)\n",
    "\n",
    "data = (ImageList.from_folder(path=path_data)\n",
    "                .split_by_folder(train=\"train\", valid=\"valid\"))\n",
    "data"
   ]
  },
  {
   "cell_type": "markdown",
   "metadata": {
    "colab_type": "text",
    "id": "1DKNDM83s5Y2"
   },
   "source": [
    "### Labelliser vos données "
   ]
  },
  {
   "cell_type": "markdown",
   "metadata": {
    "colab_type": "text",
    "id": "ri4Ebalqs6u3"
   },
   "source": [
    "La prochaine étape est de labelliser vos données. De la même manière qu'au dessus, nous avons plusieurs méthodes possibles \n",
    "\n",
    "|Méthode|Explication|\n",
    "|--------------|------------------|\n",
    "|```label_from_df(cols:IntsOrStrs=1, label_cls:Callable=None, **kwargs)```|Les labels sont présents dans une colonne de votre DataFrame|\n",
    "|```label_from_folder(label_cls:Callable=None, **kwargs)```| Les labels viennent d'un dossiers en particulier|\n",
    "|```label_from_func(func:Callable, label_cls:Callable=None, **kwargs)```| Vous devez labelliser vous même via une fonction|\n",
    "|```label_from_re(pat:str, full_path:bool=False, label_cls:Callable=None, **kwargs)```|Vous devez labelliser via une expression régulière|\n"
   ]
  },
  {
   "cell_type": "code",
   "execution_count": 55,
   "metadata": {
    "colab": {
     "base_uri": "https://localhost:8080/",
     "height": 302
    },
    "colab_type": "code",
    "id": "tGWVdIEZvmJr",
    "outputId": "282f67b9-fcbe-4b19-c5fc-0edb15288054"
   },
   "outputs": [
    {
     "data": {
      "text/plain": [
       "LabelLists;\n",
       "\n",
       "Train: LabelList (1127 items)\n",
       "x: ImageList\n",
       "Image (3, 28, 28),Image (3, 28, 28),Image (3, 28, 28),Image (3, 28, 28),Image (3, 28, 28)\n",
       "y: CategoryList\n",
       "3,3,3,3,3\n",
       "Path: /root/.fastai/data/mnist_tiny;\n",
       "\n",
       "Valid: LabelList (281 items)\n",
       "x: ImageList\n",
       "Image (3, 28, 28),Image (3, 28, 28),Image (3, 28, 28),Image (3, 28, 28),Image (3, 28, 28)\n",
       "y: CategoryList\n",
       "3,7,3,3,3\n",
       "Path: /root/.fastai/data/mnist_tiny;\n",
       "\n",
       "Test: None"
      ]
     },
     "execution_count": 55,
     "metadata": {
      "tags": []
     },
     "output_type": "execute_result"
    }
   ],
   "source": [
    "# Exemple avec label_from_df\n",
    "path_data = untar_data(URLs.MNIST_TINY)\n",
    "\n",
    "data = (ImageList.from_df(pd.read_csv(path_data/\"labels.csv\"), path_data)\n",
    "                 .split_by_rand_pct(0.2)\n",
    "                 .label_from_df(\"label\"))\n",
    "\n",
    "data"
   ]
  },
  {
   "cell_type": "code",
   "execution_count": 56,
   "metadata": {
    "colab": {
     "base_uri": "https://localhost:8080/",
     "height": 195
    },
    "colab_type": "code",
    "id": "nhVTaslmwMGp",
    "outputId": "e9d866dc-2d3e-404d-9016-b1a8e3494ccb"
   },
   "outputs": [
    {
     "data": {
      "text/html": [
       "<div>\n",
       "<style scoped>\n",
       "    .dataframe tbody tr th:only-of-type {\n",
       "        vertical-align: middle;\n",
       "    }\n",
       "\n",
       "    .dataframe tbody tr th {\n",
       "        vertical-align: top;\n",
       "    }\n",
       "\n",
       "    .dataframe thead th {\n",
       "        text-align: right;\n",
       "    }\n",
       "</style>\n",
       "<table border=\"1\" class=\"dataframe\">\n",
       "  <thead>\n",
       "    <tr style=\"text-align: right;\">\n",
       "      <th></th>\n",
       "      <th>name</th>\n",
       "      <th>label</th>\n",
       "    </tr>\n",
       "  </thead>\n",
       "  <tbody>\n",
       "    <tr>\n",
       "      <th>0</th>\n",
       "      <td>train/3/7463.png</td>\n",
       "      <td>3</td>\n",
       "    </tr>\n",
       "    <tr>\n",
       "      <th>1</th>\n",
       "      <td>train/3/9829.png</td>\n",
       "      <td>3</td>\n",
       "    </tr>\n",
       "    <tr>\n",
       "      <th>2</th>\n",
       "      <td>train/3/7881.png</td>\n",
       "      <td>3</td>\n",
       "    </tr>\n",
       "    <tr>\n",
       "      <th>3</th>\n",
       "      <td>train/3/8065.png</td>\n",
       "      <td>3</td>\n",
       "    </tr>\n",
       "    <tr>\n",
       "      <th>4</th>\n",
       "      <td>train/3/7046.png</td>\n",
       "      <td>3</td>\n",
       "    </tr>\n",
       "  </tbody>\n",
       "</table>\n",
       "</div>"
      ],
      "text/plain": [
       "               name  label\n",
       "0  train/3/7463.png      3\n",
       "1  train/3/9829.png      3\n",
       "2  train/3/7881.png      3\n",
       "3  train/3/8065.png      3\n",
       "4  train/3/7046.png      3"
      ]
     },
     "execution_count": 56,
     "metadata": {
      "tags": []
     },
     "output_type": "execute_result"
    }
   ],
   "source": [
    "### FYI, voici à quoi ressemble le dataFrame\n",
    "pd.read_csv(path_data/'labels.csv').head()"
   ]
  },
  {
   "cell_type": "code",
   "execution_count": 49,
   "metadata": {
    "colab": {
     "base_uri": "https://localhost:8080/",
     "height": 50
    },
    "colab_type": "code",
    "id": "eQmXuAJfu9l_",
    "outputId": "3fc2a97b-fe5d-40be-a078-4d42eb106b98"
   },
   "outputs": [
    {
     "data": {
      "text/plain": [
       "[PosixPath('/root/.fastai/data/mnist_tiny/train/3'),\n",
       " PosixPath('/root/.fastai/data/mnist_tiny/train/7')]"
      ]
     },
     "execution_count": 49,
     "metadata": {
      "tags": []
     },
     "output_type": "execute_result"
    }
   ],
   "source": [
    "# Exemple avec label_from_folder\n",
    "\n",
    "## Ici, nous voyons en output les deux dossiers dans lesquels sont présents des images de 3 et de 7\n",
    "train = path_data/\"train\"\n",
    "train.ls()"
   ]
  },
  {
   "cell_type": "code",
   "execution_count": 45,
   "metadata": {
    "colab": {
     "base_uri": "https://localhost:8080/",
     "height": 302
    },
    "colab_type": "code",
    "id": "wB8rJy0wsWLu",
    "outputId": "aab8e169-a553-4bd9-e151-e9f0a1d52f1f"
   },
   "outputs": [
    {
     "data": {
      "text/plain": [
       "LabelLists;\n",
       "\n",
       "Train: LabelList (709 items)\n",
       "x: ImageList\n",
       "Image (3, 28, 28),Image (3, 28, 28),Image (3, 28, 28),Image (3, 28, 28),Image (3, 28, 28)\n",
       "y: CategoryList\n",
       "3,3,3,3,3\n",
       "Path: /root/.fastai/data/mnist_tiny;\n",
       "\n",
       "Valid: LabelList (699 items)\n",
       "x: ImageList\n",
       "Image (3, 28, 28),Image (3, 28, 28),Image (3, 28, 28),Image (3, 28, 28),Image (3, 28, 28)\n",
       "y: CategoryList\n",
       "3,3,3,3,3\n",
       "Path: /root/.fastai/data/mnist_tiny;\n",
       "\n",
       "Test: None"
      ]
     },
     "execution_count": 45,
     "metadata": {
      "tags": []
     },
     "output_type": "execute_result"
    }
   ],
   "source": [
    "## On peut donc utiliser label_from_folder qui comprendra de lui-même quels sont les bons labels \n",
    "path_data = untar_data(URLs.MNIST_TINY)\n",
    "data = (ImageList.from_folder(path_data)\n",
    "                 .split_by_folder('train', 'valid')\n",
    "                 .label_from_folder())\n",
    "data"
   ]
  },
  {
   "cell_type": "markdown",
   "metadata": {
    "colab_type": "text",
    "id": "TncV3DEfxE1V"
   },
   "source": [
    "### Appliquer les transformations nécessaires \n",
    "\n",
    "Notre DataBunch est presque prêt. Il manque quelque chose d'important, particulièrement lors du traitement d'image : la *data augmentation*. Ce principe est simplement d'appliquer des transformations mineures aux images pour que le modèle s'entraine sur des éléments qui ne soient pas exactement pareils à chaque epoch. \n",
    "\n",
    "#### ```get_transform()```\n",
    "\n",
    "La méthode que l'on utilisera le plus souvent est ```get_transform()``` qui s'occupera de faire tout le travail compliqué pour nous. Globalement, ce qu'elle fait est de changer les images de manière très incrémentales. Cela peut se matérialiser de plusieurs façons : \n",
    "\n",
    "* Changer l'orientation de l'image \n",
    "* Zoomer sur l'image \n",
    "* Retourner l'image\n",
    "* Changer la luminosité \n",
    "* ...\n",
    "\n",
    "Nous utiliserons cette fonction en plus de la méthode ```.transform()``` pour notre DataBunch \n",
    "\n"
   ]
  },
  {
   "cell_type": "code",
   "execution_count": 62,
   "metadata": {
    "colab": {
     "base_uri": "https://localhost:8080/",
     "height": 302
    },
    "colab_type": "code",
    "id": "hnpLsuH8uYz2",
    "outputId": "50e22fe8-883c-4678-e68d-e012e438d382"
   },
   "outputs": [
    {
     "data": {
      "text/plain": [
       "LabelLists;\n",
       "\n",
       "Train: LabelList (709 items)\n",
       "x: ImageList\n",
       "Image (3, 28, 28),Image (3, 28, 28),Image (3, 28, 28),Image (3, 28, 28),Image (3, 28, 28)\n",
       "y: CategoryList\n",
       "3,3,3,3,3\n",
       "Path: /root/.fastai/data/mnist_tiny;\n",
       "\n",
       "Valid: LabelList (699 items)\n",
       "x: ImageList\n",
       "Image (3, 28, 28),Image (3, 28, 28),Image (3, 28, 28),Image (3, 28, 28),Image (3, 28, 28)\n",
       "y: CategoryList\n",
       "3,3,3,3,3\n",
       "Path: /root/.fastai/data/mnist_tiny;\n",
       "\n",
       "Test: None"
      ]
     },
     "execution_count": 62,
     "metadata": {
      "tags": []
     },
     "output_type": "execute_result"
    }
   ],
   "source": [
    "path_data = untar_data(URLs.MNIST_TINY)\n",
    "data = (ImageList.from_folder(path_data)\n",
    "                 .split_by_folder('train', 'valid')\n",
    "                 .label_from_folder()\n",
    "                 .transform(get_transforms(flip_vert=True)))\n",
    "data"
   ]
  },
  {
   "cell_type": "markdown",
   "metadata": {
    "colab_type": "text",
    "id": "86iLBCNRzy93"
   },
   "source": [
    "N'hésitez pas à regarder en détail la documentation sur [get_transform](https://docs.fast.ai/vision.transform.html#get_transforms) et les possibilités qui s'offrent vous."
   ]
  },
  {
   "cell_type": "markdown",
   "metadata": {
    "colab_type": "text",
    "id": "_AwexLKU0Ckp"
   },
   "source": [
    "### Transformer en DataBunch \n",
    "\n",
    "On peut enfin transformer nos données en DataBunch, pour cela rien de plus simple. Il vous suffira d'ajouter : ```.databunch()```"
   ]
  },
  {
   "cell_type": "code",
   "execution_count": 0,
   "metadata": {
    "colab": {},
    "colab_type": "code",
    "id": "sEjtp0LFzYBo"
   },
   "outputs": [],
   "source": [
    "path_data = untar_data(URLs.MNIST_TINY)\n",
    "data = (ImageList.from_folder(path_data)\n",
    "                 .split_by_folder('train', 'valid')\n",
    "                 .label_from_folder()\n",
    "                 .transform(get_transforms(flip_vert=True))\n",
    "                 .databunch())"
   ]
  },
  {
   "cell_type": "markdown",
   "metadata": {
    "colab_type": "text",
    "id": "ULVa9s6n0Su9"
   },
   "source": [
    "Vous disposez maintenant de tout un arsenal de méthode pour regarder votre ```databunch```"
   ]
  },
  {
   "cell_type": "code",
   "execution_count": 64,
   "metadata": {
    "colab": {
     "base_uri": "https://localhost:8080/",
     "height": 1469
    },
    "colab_type": "code",
    "id": "EEdrFKf40RcZ",
    "outputId": "7315e4f6-89cc-4738-f604-0e77387246bb"
   },
   "outputs": [
    {
     "data": {
      "image/png": "[encoded data removed]",
      "text/plain": [
       "<Figure size 1440x1440 with 25 Axes>"
      ]
     },
     "metadata": {
      "tags": []
     },
     "output_type": "display_data"
    }
   ],
   "source": [
    "# Vous permet de regarder une partie de vos données \n",
    "data.show_batch()"
   ]
  },
  {
   "cell_type": "code",
   "execution_count": 66,
   "metadata": {
    "colab": {
     "base_uri": "https://localhost:8080/",
     "height": 34
    },
    "colab_type": "code",
    "id": "w4zKuE_n0Z7A",
    "outputId": "45c0c124-a97d-4fef-bc2c-ece48e68757e"
   },
   "outputs": [
    {
     "data": {
      "text/plain": [
       "64"
      ]
     },
     "execution_count": 66,
     "metadata": {
      "tags": []
     },
     "output_type": "execute_result"
    }
   ],
   "source": [
    "# Vous permet de connaitre la taille de chacun des batchs qui iront à l'entrainement de chaque epoch.\n",
    "data.batch_size"
   ]
  },
  {
   "cell_type": "code",
   "execution_count": 67,
   "metadata": {
    "colab": {
     "base_uri": "https://localhost:8080/",
     "height": 302
    },
    "colab_type": "code",
    "id": "-Ivg5oJJ0k1I",
    "outputId": "6b62fa4c-3d68-41fc-d0b2-6edfb35acd9a"
   },
   "outputs": [
    {
     "data": {
      "text/plain": [
       "<bound method ImageDataBunch.batch_stats of ImageDataBunch;\n",
       "\n",
       "Train: LabelList (709 items)\n",
       "x: ImageList\n",
       "Image (3, 28, 28),Image (3, 28, 28),Image (3, 28, 28),Image (3, 28, 28),Image (3, 28, 28)\n",
       "y: CategoryList\n",
       "3,3,3,3,3\n",
       "Path: /root/.fastai/data/mnist_tiny;\n",
       "\n",
       "Valid: LabelList (699 items)\n",
       "x: ImageList\n",
       "Image (3, 28, 28),Image (3, 28, 28),Image (3, 28, 28),Image (3, 28, 28),Image (3, 28, 28)\n",
       "y: CategoryList\n",
       "3,3,3,3,3\n",
       "Path: /root/.fastai/data/mnist_tiny;\n",
       "\n",
       "Test: None>"
      ]
     },
     "execution_count": 67,
     "metadata": {
      "tags": []
     },
     "output_type": "execute_result"
    }
   ],
   "source": [
    "# Vous permet d'avoir toutes les informations basiques de votre dataset \n",
    "data.batch_stats"
   ]
  },
  {
   "cell_type": "markdown",
   "metadata": {
    "colab_type": "text",
    "id": "_HAY2biL1VJ2"
   },
   "source": [
    "## Ressources\n",
    "\n",
    "* [Data Block de FastAI](https://docs.fast.ai/data_block.html)\n",
    "* [Transformations with FastAI](https://docs.fast.ai/vision.transform.html#List-of-transforms)"
   ]
  },
  {
   "cell_type": "code",
   "execution_count": 0,
   "metadata": {
    "colab": {},
    "colab_type": "code",
    "id": "XS6tmwkB1U8E"
   },
   "outputs": [],
   "source": []
  },
  {
   "cell_type": "code",
   "execution_count": 0,
   "metadata": {
    "colab": {},
    "colab_type": "code",
    "id": "6R6mqI1u03na"
   },
   "outputs": [],
   "source": []
  }
 ],
 "metadata": {
  "colab": {
   "name": "Importer des données custom sur FastAI.ipynb",
   "provenance": [],
   "version": "0.3.2"
  },
  "kernelspec": {
   "display_name": "Python 3 (ipykernel)",
   "language": "python",
   "name": "python3"
  },
  "language_info": {
   "codemirror_mode": {
    "name": "ipython",
    "version": 3
   },
   "file_extension": ".py",
   "mimetype": "text/x-python",
   "name": "python",
   "nbconvert_exporter": "python",
   "pygments_lexer": "ipython3",
   "version": "3.9.7"
  }
 },
 "nbformat": 4,
 "nbformat_minor": 1
}
